{
 "cells": [
  {
   "cell_type": "markdown",
   "metadata": {},
   "source": [
    "# Analysis of Beta Test Results"
   ]
  },
  {
   "cell_type": "markdown",
   "metadata": {},
   "source": [
    "We are currently conducting an ongoing beta test of an instrument scanning course for the flight school at Seneca College. This is in collaboration with Seneca College and their Centre for the Development of Open Source Technology (CDOT)."
   ]
  },
  {
   "cell_type": "markdown",
   "metadata": {},
   "source": [
    "## Load the results"
   ]
  },
  {
   "cell_type": "code",
   "execution_count": 35,
   "metadata": {
    "collapsed": false
   },
   "outputs": [
    {
     "name": "stdout",
     "output_type": "stream",
     "text": [
      "<type 'dict'>\n"
     ]
    }
   ],
   "source": [
    "import cPickle as pickle\n",
    "import numpy as np\n",
    "results = pickle.load(open('beta_test_results.p','rb'))\n",
    "print type(results)"
   ]
  },
  {
   "cell_type": "markdown",
   "metadata": {},
   "source": [
    "The results are stored in a Python dictionary format, a type of key-value store. The two main keys are:"
   ]
  },
  {
   "cell_type": "code",
   "execution_count": 30,
   "metadata": {
    "collapsed": false
   },
   "outputs": [
    {
     "data": {
      "text/plain": [
       "['student_ids', 'student_states']"
      ]
     },
     "execution_count": 30,
     "metadata": {},
     "output_type": "execute_result"
    }
   ],
   "source": [
    "results.keys()"
   ]
  },
  {
   "cell_type": "markdown",
   "metadata": {},
   "source": [
    "**`student_ids`** is a list of all Student IDs, while **`student_states`** indicates each student's participation history in the course."
   ]
  },
  {
   "cell_type": "markdown",
   "metadata": {},
   "source": [
    "## How many participants?"
   ]
  },
  {
   "cell_type": "code",
   "execution_count": 31,
   "metadata": {
    "collapsed": false
   },
   "outputs": [
    {
     "name": "stdout",
     "output_type": "stream",
     "text": [
      "There are 41 participants in this beta test so far.\n"
     ]
    }
   ],
   "source": [
    "print 'There are {0} participants in this beta test so far.'.format(len(results['student_ids']))"
   ]
  },
  {
   "cell_type": "markdown",
   "metadata": {},
   "source": [
    "#### Create an index of student IDs"
   ]
  },
  {
   "cell_type": "code",
   "execution_count": 40,
   "metadata": {
    "collapsed": true
   },
   "outputs": [],
   "source": [
    "student_ids = results['student_ids']"
   ]
  },
  {
   "cell_type": "code",
   "execution_count": 42,
   "metadata": {
    "collapsed": false
   },
   "outputs": [
    {
     "data": {
      "text/plain": [
       "list"
      ]
     },
     "execution_count": 42,
     "metadata": {},
     "output_type": "execute_result"
    }
   ],
   "source": [
    "type(student_ids)"
   ]
  },
  {
   "cell_type": "markdown",
   "metadata": {},
   "source": [
    "The `student_ids` variable is a list containing every participants ID code."
   ]
  },
  {
   "cell_type": "markdown",
   "metadata": {},
   "source": [
    "#### How is the results data organized?"
   ]
  },
  {
   "cell_type": "code",
   "execution_count": 50,
   "metadata": {
    "collapsed": true
   },
   "outputs": [],
   "source": [
    "student_states = results['student_states']"
   ]
  },
  {
   "cell_type": "code",
   "execution_count": 52,
   "metadata": {
    "collapsed": false
   },
   "outputs": [
    {
     "data": {
      "text/plain": [
       "list"
      ]
     },
     "execution_count": 52,
     "metadata": {},
     "output_type": "execute_result"
    }
   ],
   "source": [
    "type(student_states)"
   ]
  },
  {
   "cell_type": "code",
   "execution_count": 53,
   "metadata": {
    "collapsed": false
   },
   "outputs": [
    {
     "data": {
      "text/plain": [
       "41"
      ]
     },
     "execution_count": 53,
     "metadata": {},
     "output_type": "execute_result"
    }
   ],
   "source": [
    "len(student_states)"
   ]
  },
  {
   "cell_type": "code",
   "execution_count": 54,
   "metadata": {
    "collapsed": false
   },
   "outputs": [
    {
     "data": {
      "text/plain": [
       "dict"
      ]
     },
     "execution_count": 54,
     "metadata": {},
     "output_type": "execute_result"
    }
   ],
   "source": [
    "type(student_states[0])"
   ]
  },
  {
   "cell_type": "code",
   "execution_count": 56,
   "metadata": {
    "collapsed": false
   },
   "outputs": [
    {
     "data": {
      "text/plain": [
       "['avg_attempts',\n",
       " 'student_id',\n",
       " 'avg_time_took',\n",
       " 'problems',\n",
       " 'chapters',\n",
       " 'avg_grade']"
      ]
     },
     "execution_count": 56,
     "metadata": {},
     "output_type": "execute_result"
    }
   ],
   "source": [
    "student_states[0].keys()"
   ]
  },
  {
   "cell_type": "markdown",
   "metadata": {},
   "source": [
    "The other key variable in the `results` data store is `student_states`. I've created a new variable called `student_states`. It is organized as a list of Python dicts, with one for each student. The dict for each student is organized with 6 further keys, '`avg_attempts`', '`student_ud`', '`average_time_took`', '`problems`', '`chapters`', and '`avg_grade`. Most of these are preprocessing done by the Django webapp during its reading and presentation of the MySQL data from the edX platform. This data analysis should be encapsulated as part of the a data analysis package and returned to the webapp."
   ]
  },
  {
   "cell_type": "markdown",
   "metadata": {},
   "source": [
    "#### Explore the structure of one entry"
   ]
  },
  {
   "cell_type": "code",
   "execution_count": 58,
   "metadata": {
    "collapsed": false
   },
   "outputs": [
    {
     "data": {
      "text/plain": [
       "u'10'"
      ]
     },
     "execution_count": 58,
     "metadata": {},
     "output_type": "execute_result"
    }
   ],
   "source": [
    "student_states[0]['student_id']"
   ]
  },
  {
   "cell_type": "code",
   "execution_count": 60,
   "metadata": {
    "collapsed": false
   },
   "outputs": [
    {
     "data": {
      "text/plain": [
       "2.0"
      ]
     },
     "execution_count": 60,
     "metadata": {},
     "output_type": "execute_result"
    }
   ],
   "source": [
    "student_states[0]['avg_attempts']"
   ]
  },
  {
   "cell_type": "code",
   "execution_count": 61,
   "metadata": {
    "collapsed": false
   },
   "outputs": [
    {
     "data": {
      "text/plain": [
       "datetime.timedelta(46, 71392)"
      ]
     },
     "execution_count": 61,
     "metadata": {},
     "output_type": "execute_result"
    }
   ],
   "source": [
    "student_states[0]['avg_time_took']"
   ]
  },
  {
   "cell_type": "code",
   "execution_count": 62,
   "metadata": {
    "collapsed": false
   },
   "outputs": [
    {
     "data": {
      "text/plain": [
       "66"
      ]
     },
     "execution_count": 62,
     "metadata": {},
     "output_type": "execute_result"
    }
   ],
   "source": [
    "student_states[0]['avg_grade']"
   ]
  },
  {
   "cell_type": "markdown",
   "metadata": {},
   "source": [
    "These first few are basic data types, except for `avg_time_took` which is a datetime object that is easily converted into different time representations. For example,"
   ]
  },
  {
   "cell_type": "code",
   "execution_count": 63,
   "metadata": {
    "collapsed": true
   },
   "outputs": [],
   "source": [
    "time = student_states[0]['avg_time_took']"
   ]
  },
  {
   "cell_type": "code",
   "execution_count": 64,
   "metadata": {
    "collapsed": false
   },
   "outputs": [
    {
     "data": {
      "text/plain": [
       "71392"
      ]
     },
     "execution_count": 64,
     "metadata": {},
     "output_type": "execute_result"
    }
   ],
   "source": [
    "time.seconds"
   ]
  },
  {
   "cell_type": "markdown",
   "metadata": {},
   "source": [
    "Let's consider the other key values."
   ]
  },
  {
   "cell_type": "code",
   "execution_count": 80,
   "metadata": {
    "collapsed": false
   },
   "outputs": [
    {
     "data": {
      "text/plain": [
       "[{'attempts': 2,\n",
       "  'grade': 100,\n",
       "  'problem_code': u'0699c429e09a44d5a9a64d3b3a355262',\n",
       "  'time_took': datetime.timedelta(28, 78174)},\n",
       " {'attempts': 2,\n",
       "  'grade': 0,\n",
       "  'problem_code': u'536c887e89994c0fbac914545be5994f',\n",
       "  'time_took': datetime.timedelta(24, 69131)},\n",
       " {'attempts': 2,\n",
       "  'grade': 100,\n",
       "  'problem_code': u'a4074a917acb447bbbad55b8f85be99d',\n",
       "  'time_took': datetime.timedelta(86, 66871)}]"
      ]
     },
     "execution_count": 80,
     "metadata": {},
     "output_type": "execute_result"
    }
   ],
   "source": [
    "student_states[0]['problems']"
   ]
  },
  {
   "cell_type": "code",
   "execution_count": 111,
   "metadata": {
    "collapsed": false
   },
   "outputs": [
    {
     "name": "stdout",
     "output_type": "stream",
     "text": [
      "[{'created': datetime.datetime(2014, 12, 17, 17, 27, 21, tzinfo=<UTC>),\n",
      "  'module_id': u'd3493fd85173401c97ccaea5a568ba13',\n",
      "  'sequentials': [{'created': datetime.datetime(2014, 12, 17, 17, 27, 21, tzinfo=<UTC>),\n",
      "                   'module_id': u'b34ab8e5baea471183123a6c8dc3065b',\n",
      "                   'problems': [{'attempts': 2,\n",
      "                                 'grade': 100,\n",
      "                                 'problem_code': u'0699c429e09a44d5a9a64d3b3a355262',\n",
      "                                 'time_took': datetime.timedelta(28, 78174)},\n",
      "                                {'attempts': 2,\n",
      "                                 'grade': 0,\n",
      "                                 'problem_code': u'536c887e89994c0fbac914545be5994f',\n",
      "                                 'time_took': datetime.timedelta(24, 69131)},\n",
      "                                {'attempts': 2,\n",
      "                                 'grade': 100,\n",
      "                                 'problem_code': u'a4074a917acb447bbbad55b8f85be99d',\n",
      "                                 'time_took': datetime.timedelta(86, 66871)}]},\n",
      "                  {'created': datetime.datetime(2015, 2, 4, 19, 49, 3, tzinfo=<UTC>),\n",
      "                   'module_id': u'a0f96824f75448299218d7a62279e86d',\n",
      "                   'problems': []}]},\n",
      " {'created': datetime.datetime(2015, 3, 13, 19, 17, 9, tzinfo=<UTC>),\n",
      "  'module_id': u'9214d00733ef411a856cac381b053e28',\n",
      "  'sequentials': [{'created': datetime.datetime(2014, 12, 17, 17, 27, 21, tzinfo=<UTC>),\n",
      "                   'module_id': u'08aeeaca222a4d6b90e2ae4c1b7198fd',\n",
      "                   'problems': [{'attempts': 2,\n",
      "                                 'grade': 100,\n",
      "                                 'problem_code': u'0699c429e09a44d5a9a64d3b3a355262',\n",
      "                                 'time_took': datetime.timedelta(28, 78174)},\n",
      "                                {'attempts': 2,\n",
      "                                 'grade': 0,\n",
      "                                 'problem_code': u'536c887e89994c0fbac914545be5994f',\n",
      "                                 'time_took': datetime.timedelta(24, 69131)},\n",
      "                                {'attempts': 2,\n",
      "                                 'grade': 100,\n",
      "                                 'problem_code': u'a4074a917acb447bbbad55b8f85be99d',\n",
      "                                 'time_took': datetime.timedelta(86, 66871)}]},\n",
      "                  {'created': datetime.datetime(2015, 3, 19, 16, 17, tzinfo=<UTC>),\n",
      "                   'module_id': u'2685be71892e4608b7cc2d9402d26a6a',\n",
      "                   'problems': []},\n",
      "                  {'created': datetime.datetime(2015, 3, 19, 16, 17, 50, tzinfo=<UTC>),\n",
      "                   'module_id': u'232aea2870ef46439ddf6e1e0f15475c',\n",
      "                   'problems': []},\n",
      "                  {'created': datetime.datetime(2015, 4, 5, 21, 25, 49, tzinfo=<UTC>),\n",
      "                   'module_id': u'd6936c7004a649fa961189413b455ee9',\n",
      "                   'problems': []},\n",
      "                  {'created': datetime.datetime(2015, 4, 7, 7, 35, 18, tzinfo=<UTC>),\n",
      "                   'module_id': u'ed7af9e0761247899a14209f37eeb0d6',\n",
      "                   'problems': []}]}]\n"
     ]
    }
   ],
   "source": [
    "from pprint import pprint as pp\n",
    "pp(student_states[0]['chapters'])"
   ]
  },
  {
   "cell_type": "markdown",
   "metadata": {},
   "source": [
    "The `problems` and `chapters` keys are a more complicated. Each of these are also Python dicts and they contain hashes to represent the Module, Snaps, and Problems found in the course. The data under the `problems` key appears again under the `chapters` key, so it is redundant for the purposes of this analysis. We will focus on the data contained under `chapters`. Let's simplify things a little and create a dictionary that maps hashes to names:"
   ]
  },
  {
   "cell_type": "code",
   "execution_count": 104,
   "metadata": {
    "collapsed": false
   },
   "outputs": [
    {
     "name": "stdout",
     "output_type": "stream",
     "text": [
      "[u'd3493fd85173401c97ccaea5a568ba13', u'd60e238bd95b4f04973a7880861cc939', u'9214d00733ef411a856cac381b053e28', u'0e6bce40f0c84517a60b5fe55a082b86']\n"
     ]
    }
   ],
   "source": [
    "# Find all modules in edX course ('chapters')\n",
    "modules = []\n",
    "for i in range(len(student_states)):\n",
    "    chaps = student_states[i]['chapters']\n",
    "    for j in range(len(chaps)):\n",
    "        modules.append(chaps[j]['module_id'])\n",
    "        \n",
    "# Convert to set and back to list to keep only unique entries\n",
    "modules = list(set(modules))\n",
    "\n",
    "print modules"
   ]
  },
  {
   "cell_type": "code",
   "execution_count": 119,
   "metadata": {
    "collapsed": false
   },
   "outputs": [],
   "source": [
    "module_name = {}\n",
    "module_name['d3493fd85173401c97ccaea5a568ba13'] = 'Module 1'\n",
    "module_name['9214d00733ef411a856cac381b053e28'] = 'Module_EdwardTest'\n",
    "module_name['d60e238bd95b4f04973a7880861cc939'] = 'DELETED'\n",
    "module_name['0e6bce40f0c84517a60b5fe55a082b86'] = 'DELETED'\n",
    "\n",
    "module_hash = {}\n",
    "module_hash['Module 1'] = 'd3493fd85173401c97ccaea5a568ba13'"
   ]
  },
  {
   "cell_type": "markdown",
   "metadata": {},
   "source": [
    "All of these are submodules of the Instrument Scanning Course. The only module we care about is 'Module 1', which is where the main parts of the course are located. 'Module_EdwardTest' must have been something created for testing purposes and then not removed. The other two modules appear to have been removed because their pages are no longer accessible.\n",
    "\n",
    "To proceed, we will fully ignore everything except the Module 1 hash."
   ]
  },
  {
   "cell_type": "markdown",
   "metadata": {},
   "source": [
    "We also see that under every module is a key called '`sequentials`'. The sequentials are then further divided by sub-module (these are the pre-test, post-test, and individual snap courses), which are each subdivided again into problems taken as part of those sub-modules. Let's create dictionaries to translate the hashes."
   ]
  },
  {
   "cell_type": "code",
   "execution_count": 120,
   "metadata": {
    "collapsed": false
   },
   "outputs": [
    {
     "name": "stdout",
     "output_type": "stream",
     "text": [
      "[u'd35b4afe52684239852e03c115ade6c1',\n",
      " u'2685be71892e4608b7cc2d9402d26a6a',\n",
      " u'ed7af9e0761247899a14209f37eeb0d6',\n",
      " u'b34ab8e5baea471183123a6c8dc3065b',\n",
      " u'a0f96824f75448299218d7a62279e86d',\n",
      " u'6da197eeb30948a3b6b428168246a001',\n",
      " u'd6936c7004a649fa961189413b455ee9',\n",
      " u'232aea2870ef46439ddf6e1e0f15475c']\n"
     ]
    }
   ],
   "source": [
    "submodules = []\n",
    "problems = []\n",
    "for i in range(len(student_states)):\n",
    "    chaps = student_states[i]['chapters']\n",
    "    for j in range(len(chaps)):\n",
    "        if chaps[j]['module_id'] == module_hash['Module 1']:\n",
    "            # The sequentials\n",
    "            seqs = chaps[j]['sequentials']\n",
    "            for k in range(len(seqs)):\n",
    "                submodules.append(seqs[k]['module_id'])\n",
    "\n",
    "submodules = list(set(submodules))\n",
    "pp(submodules)"
   ]
  },
  {
   "cell_type": "markdown",
   "metadata": {},
   "source": [
    "Now just as we did for the modules, let's create dictionaries for translating from hashes to names and back."
   ]
  },
  {
   "cell_type": "code",
   "execution_count": 121,
   "metadata": {
    "collapsed": true
   },
   "outputs": [],
   "source": [
    "submodule_name = {}\n",
    "\n",
    "submodule_name['d35b4afe52684239852e03c115ade6c1'] = 'DELETED'\n",
    "submodule_name['2685be71892e4608b7cc2d9402d26a6a'] = 'Snap 3'\n",
    "submodule_name['ed7af9e0761247899a14209f37eeb0d6'] = 'Post-Test'\n",
    "submodule_name['b34ab8e5baea471183123a6c8dc3065b'] = 'Snap 1'\n",
    "submodule_name['a0f96824f75448299218d7a62279e86d'] = 'Snap 2'\n",
    "submodule_name['6da197eeb30948a3b6b428168246a001'] = 'DELETED'\n",
    "submodule_name['d6936c7004a649fa961189413b455ee9'] = 'Pre-Test'\n",
    "submodule_name['232aea2870ef46439ddf6e1e0f15475c'] = 'DELETED'\n",
    "\n",
    "submodule_hash = {}\n",
    "submodule_hash['Pre-Test']  = 'd6936c7004a649fa961189413b455ee9'\n",
    "submodule_hash['Post-Test'] = 'ed7af9e0761247899a14209f37eeb0d6'\n",
    "submodule_hash['Snap 1']    = 'b34ab8e5baea471183123a6c8dc3065b'\n",
    "submodule_hash['Snap 2']    = 'a0f96824f75448299218d7a62279e86d'\n",
    "submodule_hash['Snap 3']    = '2685be71892e4608b7cc2d9402d26a6a'"
   ]
  },
  {
   "cell_type": "markdown",
   "metadata": {},
   "source": [
    "Again, we see that during the course creation process, several database entries were made for snaps that were ultimately deleted, but the entries still remain in the database tables. We will want to ignore these deleted entries during the analysis, as they could lead to poor performance of our analytics code or simply just confusing data dashboards."
   ]
  },
  {
   "cell_type": "markdown",
   "metadata": {},
   "source": [
    "## Who completed the post-test?"
   ]
  },
  {
   "cell_type": "code",
   "execution_count": 140,
   "metadata": {
    "collapsed": false
   },
   "outputs": [
    {
     "name": "stdout",
     "output_type": "stream",
     "text": [
      "Student 18 completed 4/4 Post-Test Questions\n",
      "Student 15 completed 1/4 Post-Test Questions\n",
      "Student 34 completed 4/4 Post-Test Questions\n",
      "Student 39 completed 4/4 Post-Test Questions\n",
      "Student 42 completed 4/4 Post-Test Questions\n",
      "Student 44 completed 4/4 Post-Test Questions\n",
      "Student 45 completed 2/4 Post-Test Questions\n",
      "Student 46 completed 4/4 Post-Test Questions\n",
      "Student 48 completed 4/4 Post-Test Questions\n",
      "Student 49 completed 4/4 Post-Test Questions\n",
      "Student 51 completed 4/4 Post-Test Questions\n",
      "Student 53 completed 2/4 Post-Test Questions\n",
      "Student 54 completed 4/4 Post-Test Questions\n",
      "Student 56 completed 4/4 Post-Test Questions\n",
      "Student 57 completed 4/4 Post-Test Questions\n",
      "Student 60 completed 4/4 Post-Test Questions\n",
      "Student 62 completed 4/4 Post-Test Questions\n"
     ]
    }
   ],
   "source": [
    "for i in range(len(student_states)):\n",
    "    chaps = student_states[i]['chapters']\n",
    "    for j in range(len(chaps)):\n",
    "        if chaps[j]['module_id'] == module_hash['Module 1']:\n",
    "            # The sequentials\n",
    "            seqs = chaps[j]['sequentials']\n",
    "            for k in range(len(seqs)):\n",
    "                # Did the student attempt the post-test, and try at least 1 problem?\n",
    "                if seqs[k]['module_id'] == submodule_hash['Post-Test'] and len(seqs[k]['problems']) != 0:\n",
    "                    print 'Student {0} completed {1}/{2} Post-Test Questions'.format(student_states[i]['student_id'],len(seqs[k]['problems']),4)"
   ]
  },
  {
   "cell_type": "markdown",
   "metadata": {},
   "source": [
    "## What about the pre-test?"
   ]
  },
  {
   "cell_type": "code",
   "execution_count": 146,
   "metadata": {
    "collapsed": false
   },
   "outputs": [
    {
     "name": "stdout",
     "output_type": "stream",
     "text": [
      "Student 18 completed 8 Pre-Test Questions:\n",
      "    4dfc44e8dd404b59a3bc70f87ea157f7\n",
      "    5fb5f6305e3c4d0f9bc3182904e9f06f\n",
      "    745f507e754e4e319d42fc536924cc81\n",
      "    7b5a1ecf40a4437491b5ad0f48dddb24\n",
      "    a4f868d5b2634db49b4c94cf00fe4468\n",
      "    cacd7cbce27647488d1f8aa8e857e354\n",
      "    f8650db847534f48b78492169b0e0db8\n",
      "    ffba9cbbf79e4227bfd36a155cb7901f\n",
      "Student 25 completed 10 Pre-Test Questions:\n",
      "    0699c429e09a44d5a9a64d3b3a355262\n",
      "    30acd92d067c4ec1a74e671b6ab40e78\n",
      "    4c9cf201b9b944dea74be08887110bae\n",
      "    6bc1dafc91e04a8894aaef39d00bc257\n",
      "    720d08631e2748a281576a625c991679\n",
      "    77becc09573d4728be27f09df98ca593\n",
      "    7f269b6788b847139036ec67767c042c\n",
      "    7f3cc3bd60e24bd2a8bdfd7a42b4b827\n",
      "    c18a372dd551460a9ecaf37a8c0192dd\n",
      "    ed85b008d308469ca20943f9bc0b865e\n",
      "Student 31 completed 4 Pre-Test Questions:\n",
      "    5177b036b3454a49855a1063b4c06d7c\n",
      "    536c887e89994c0fbac914545be5994f\n",
      "    a4074a917acb447bbbad55b8f85be99d\n",
      "    cacd7cbce27647488d1f8aa8e857e354\n",
      "Student 32 completed 8 Pre-Test Questions:\n",
      "    4dfc44e8dd404b59a3bc70f87ea157f7\n",
      "    5fb5f6305e3c4d0f9bc3182904e9f06f\n",
      "    745f507e754e4e319d42fc536924cc81\n",
      "    7b5a1ecf40a4437491b5ad0f48dddb24\n",
      "    a4f868d5b2634db49b4c94cf00fe4468\n",
      "    cacd7cbce27647488d1f8aa8e857e354\n",
      "    f8650db847534f48b78492169b0e0db8\n",
      "    ffba9cbbf79e4227bfd36a155cb7901f\n",
      "Student 33 completed 6 Pre-Test Questions:\n",
      "    745f507e754e4e319d42fc536924cc81\n",
      "    7b5a1ecf40a4437491b5ad0f48dddb24\n",
      "    a4f868d5b2634db49b4c94cf00fe4468\n",
      "    cacd7cbce27647488d1f8aa8e857e354\n",
      "    f8650db847534f48b78492169b0e0db8\n",
      "    ffba9cbbf79e4227bfd36a155cb7901f\n",
      "Student 17 completed 1 Pre-Test Questions:\n",
      "    cacd7cbce27647488d1f8aa8e857e354\n",
      "Student 34 completed 12 Pre-Test Questions:\n",
      "    0699c429e09a44d5a9a64d3b3a355262\n",
      "    5177b036b3454a49855a1063b4c06d7c\n",
      "    536c887e89994c0fbac914545be5994f\n",
      "    6bc1dafc91e04a8894aaef39d00bc257\n",
      "    720d08631e2748a281576a625c991679\n",
      "    745f507e754e4e319d42fc536924cc81\n",
      "    7b5a1ecf40a4437491b5ad0f48dddb24\n",
      "    a4074a917acb447bbbad55b8f85be99d\n",
      "    a4f868d5b2634db49b4c94cf00fe4468\n",
      "    c18a372dd551460a9ecaf37a8c0192dd\n",
      "    cacd7cbce27647488d1f8aa8e857e354\n",
      "    ffba9cbbf79e4227bfd36a155cb7901f\n",
      "Student 35 completed 4 Pre-Test Questions:\n",
      "    7b5a1ecf40a4437491b5ad0f48dddb24\n",
      "    a4f868d5b2634db49b4c94cf00fe4468\n",
      "    cacd7cbce27647488d1f8aa8e857e354\n",
      "    ffba9cbbf79e4227bfd36a155cb7901f\n",
      "Student 36 completed 3 Pre-Test Questions:\n",
      "    5fb5f6305e3c4d0f9bc3182904e9f06f\n",
      "    7b5a1ecf40a4437491b5ad0f48dddb24\n",
      "    cacd7cbce27647488d1f8aa8e857e354\n",
      "Student 39 completed 6 Pre-Test Questions:\n",
      "    5fb5f6305e3c4d0f9bc3182904e9f06f\n",
      "    745f507e754e4e319d42fc536924cc81\n",
      "    7b5a1ecf40a4437491b5ad0f48dddb24\n",
      "    a4f868d5b2634db49b4c94cf00fe4468\n",
      "    cacd7cbce27647488d1f8aa8e857e354\n",
      "    ffba9cbbf79e4227bfd36a155cb7901f\n",
      "Student 40 completed 3 Pre-Test Questions:\n",
      "    cacd7cbce27647488d1f8aa8e857e354\n",
      "    f8650db847534f48b78492169b0e0db8\n",
      "    ffba9cbbf79e4227bfd36a155cb7901f\n",
      "Student 41 completed 4 Pre-Test Questions:\n",
      "    5177b036b3454a49855a1063b4c06d7c\n",
      "    536c887e89994c0fbac914545be5994f\n",
      "    a4074a917acb447bbbad55b8f85be99d\n",
      "    cacd7cbce27647488d1f8aa8e857e354\n",
      "Student 42 completed 8 Pre-Test Questions:\n",
      "    4dfc44e8dd404b59a3bc70f87ea157f7\n",
      "    5fb5f6305e3c4d0f9bc3182904e9f06f\n",
      "    745f507e754e4e319d42fc536924cc81\n",
      "    7b5a1ecf40a4437491b5ad0f48dddb24\n",
      "    a4f868d5b2634db49b4c94cf00fe4468\n",
      "    cacd7cbce27647488d1f8aa8e857e354\n",
      "    f8650db847534f48b78492169b0e0db8\n",
      "    ffba9cbbf79e4227bfd36a155cb7901f\n",
      "Student 43 completed 4 Pre-Test Questions:\n",
      "    5fb5f6305e3c4d0f9bc3182904e9f06f\n",
      "    7b5a1ecf40a4437491b5ad0f48dddb24\n",
      "    cacd7cbce27647488d1f8aa8e857e354\n",
      "    ffba9cbbf79e4227bfd36a155cb7901f\n",
      "Student 44 completed 4 Pre-Test Questions:\n",
      "    745f507e754e4e319d42fc536924cc81\n",
      "    7b5a1ecf40a4437491b5ad0f48dddb24\n",
      "    cacd7cbce27647488d1f8aa8e857e354\n",
      "    ffba9cbbf79e4227bfd36a155cb7901f\n",
      "Student 45 completed 1 Pre-Test Questions:\n",
      "    536c887e89994c0fbac914545be5994f\n",
      "Student 46 completed 1 Pre-Test Questions:\n",
      "    cacd7cbce27647488d1f8aa8e857e354\n",
      "Student 47 completed 10 Pre-Test Questions:\n",
      "    5177b036b3454a49855a1063b4c06d7c\n",
      "    536c887e89994c0fbac914545be5994f\n",
      "    745f507e754e4e319d42fc536924cc81\n",
      "    7b5a1ecf40a4437491b5ad0f48dddb24\n",
      "    7f269b6788b847139036ec67767c042c\n",
      "    7f3cc3bd60e24bd2a8bdfd7a42b4b827\n",
      "    a4074a917acb447bbbad55b8f85be99d\n",
      "    a4f868d5b2634db49b4c94cf00fe4468\n",
      "    cacd7cbce27647488d1f8aa8e857e354\n",
      "    f8650db847534f48b78492169b0e0db8\n",
      "Student 48 completed 8 Pre-Test Questions:\n",
      "    4dfc44e8dd404b59a3bc70f87ea157f7\n",
      "    5fb5f6305e3c4d0f9bc3182904e9f06f\n",
      "    745f507e754e4e319d42fc536924cc81\n",
      "    7b5a1ecf40a4437491b5ad0f48dddb24\n",
      "    a4f868d5b2634db49b4c94cf00fe4468\n",
      "    cacd7cbce27647488d1f8aa8e857e354\n",
      "    f8650db847534f48b78492169b0e0db8\n",
      "    ffba9cbbf79e4227bfd36a155cb7901f\n",
      "Student 49 completed 3 Pre-Test Questions:\n",
      "    536c887e89994c0fbac914545be5994f\n",
      "    a4074a917acb447bbbad55b8f85be99d\n",
      "    cacd7cbce27647488d1f8aa8e857e354\n",
      "Student 51 completed 2 Pre-Test Questions:\n",
      "    cacd7cbce27647488d1f8aa8e857e354\n",
      "    ffba9cbbf79e4227bfd36a155cb7901f\n",
      "Student 52 completed 2 Pre-Test Questions:\n",
      "    536c887e89994c0fbac914545be5994f\n",
      "    cacd7cbce27647488d1f8aa8e857e354\n",
      "Student 50 completed 26 Pre-Test Questions:\n",
      "    0699c429e09a44d5a9a64d3b3a355262\n",
      "    2224cf4f71d042558fafd4b4f0add0b6\n",
      "    27e129a18cc44925b5cfd8a6c1d69d59\n",
      "    30acd92d067c4ec1a74e671b6ab40e78\n",
      "    4c9cf201b9b944dea74be08887110bae\n",
      "    4dfc44e8dd404b59a3bc70f87ea157f7\n",
      "    5177b036b3454a49855a1063b4c06d7c\n",
      "    536c887e89994c0fbac914545be5994f\n",
      "    5fb5f6305e3c4d0f9bc3182904e9f06f\n",
      "    64f0dda8c3074c9eaaed8ec21f49cb5a\n",
      "    6bc1dafc91e04a8894aaef39d00bc257\n",
      "    720d08631e2748a281576a625c991679\n",
      "    745f507e754e4e319d42fc536924cc81\n",
      "    77becc09573d4728be27f09df98ca593\n",
      "    7b5a1ecf40a4437491b5ad0f48dddb24\n",
      "    7f269b6788b847139036ec67767c042c\n",
      "    7f3cc3bd60e24bd2a8bdfd7a42b4b827\n",
      "    92be60b31f514322b9164106ba707704\n",
      "    a4074a917acb447bbbad55b8f85be99d\n",
      "    a4f868d5b2634db49b4c94cf00fe4468\n",
      "    c18a372dd551460a9ecaf37a8c0192dd\n",
      "    cacd7cbce27647488d1f8aa8e857e354\n",
      "    e66f2ad8e9924d24a1044dee6095242f\n",
      "    ed85b008d308469ca20943f9bc0b865e\n",
      "    f8650db847534f48b78492169b0e0db8\n",
      "    ffba9cbbf79e4227bfd36a155cb7901f\n",
      "Student 53 completed 3 Pre-Test Questions:\n",
      "    745f507e754e4e319d42fc536924cc81\n",
      "    cacd7cbce27647488d1f8aa8e857e354\n",
      "    ffba9cbbf79e4227bfd36a155cb7901f\n",
      "Student 55 completed 1 Pre-Test Questions:\n",
      "    cacd7cbce27647488d1f8aa8e857e354\n",
      "Student 56 completed 1 Pre-Test Questions:\n",
      "    cacd7cbce27647488d1f8aa8e857e354\n",
      "Student 57 completed 5 Pre-Test Questions:\n",
      "    0699c429e09a44d5a9a64d3b3a355262\n",
      "    6bc1dafc91e04a8894aaef39d00bc257\n",
      "    720d08631e2748a281576a625c991679\n",
      "    c18a372dd551460a9ecaf37a8c0192dd\n",
      "    cacd7cbce27647488d1f8aa8e857e354\n",
      "Student 58 completed 8 Pre-Test Questions:\n",
      "    4dfc44e8dd404b59a3bc70f87ea157f7\n",
      "    5fb5f6305e3c4d0f9bc3182904e9f06f\n",
      "    745f507e754e4e319d42fc536924cc81\n",
      "    7b5a1ecf40a4437491b5ad0f48dddb24\n",
      "    a4f868d5b2634db49b4c94cf00fe4468\n",
      "    cacd7cbce27647488d1f8aa8e857e354\n",
      "    f8650db847534f48b78492169b0e0db8\n",
      "    ffba9cbbf79e4227bfd36a155cb7901f\n",
      "Student 59 completed 8 Pre-Test Questions:\n",
      "    4dfc44e8dd404b59a3bc70f87ea157f7\n",
      "    5fb5f6305e3c4d0f9bc3182904e9f06f\n",
      "    745f507e754e4e319d42fc536924cc81\n",
      "    7b5a1ecf40a4437491b5ad0f48dddb24\n",
      "    a4f868d5b2634db49b4c94cf00fe4468\n",
      "    cacd7cbce27647488d1f8aa8e857e354\n",
      "    f8650db847534f48b78492169b0e0db8\n",
      "    ffba9cbbf79e4227bfd36a155cb7901f\n",
      "Student 60 completed 13 Pre-Test Questions:\n",
      "    0699c429e09a44d5a9a64d3b3a355262\n",
      "    4dfc44e8dd404b59a3bc70f87ea157f7\n",
      "    5177b036b3454a49855a1063b4c06d7c\n",
      "    536c887e89994c0fbac914545be5994f\n",
      "    5fb5f6305e3c4d0f9bc3182904e9f06f\n",
      "    720d08631e2748a281576a625c991679\n",
      "    745f507e754e4e319d42fc536924cc81\n",
      "    7b5a1ecf40a4437491b5ad0f48dddb24\n",
      "    a4074a917acb447bbbad55b8f85be99d\n",
      "    a4f868d5b2634db49b4c94cf00fe4468\n",
      "    cacd7cbce27647488d1f8aa8e857e354\n",
      "    f8650db847534f48b78492169b0e0db8\n",
      "    ffba9cbbf79e4227bfd36a155cb7901f\n",
      "Student 61 completed 4 Pre-Test Questions:\n",
      "    5177b036b3454a49855a1063b4c06d7c\n",
      "    536c887e89994c0fbac914545be5994f\n",
      "    a4074a917acb447bbbad55b8f85be99d\n",
      "    cacd7cbce27647488d1f8aa8e857e354\n",
      "Student 62 completed 1 Pre-Test Questions:\n",
      "    cacd7cbce27647488d1f8aa8e857e354\n",
      "Student 63 completed 1 Pre-Test Questions:\n",
      "    cacd7cbce27647488d1f8aa8e857e354\n"
     ]
    }
   ],
   "source": [
    "for i in range(len(student_states)):\n",
    "    chaps = student_states[i]['chapters']\n",
    "    for j in range(len(chaps)):\n",
    "        if chaps[j]['module_id'] == module_hash['Module 1']:\n",
    "            # The sequentials\n",
    "            seqs = chaps[j]['sequentials']\n",
    "            for k in range(len(seqs)):\n",
    "                # Did the student attempt the post-test, and try at least 1 problem?\n",
    "                if seqs[k]['module_id'] == submodule_hash['Pre-Test'] and len(seqs[k]['problems']) != 0:\n",
    "                    print 'Student {0} completed {1} Pre-Test Questions:'.format(student_states[i]['student_id'],len(seqs[k]['problems']))\n",
    "                    for ii in range(len(seqs[k]['problems'])):\n",
    "                        print '   ',seqs[k]['problems'][ii]['problem_code']"
   ]
  },
  {
   "cell_type": "markdown",
   "metadata": {},
   "source": [
    "### Why are there so many individuals problem_codes for the pre-test? "
   ]
  },
  {
   "cell_type": "markdown",
   "metadata": {},
   "source": [
    "Does it have to do with the drag-and-drop elements? Does each element have its own problem code?"
   ]
  },
  {
   "cell_type": "markdown",
   "metadata": {},
   "source": [
    "## Next steps"
   ]
  },
  {
   "cell_type": "markdown",
   "metadata": {},
   "source": [
    "- Create a hash dictionaries for all the problems IDs: Snap-1-1, Snap-1-2, PreT-1, PosT-1, etc.\n",
    "- Create a dataframe organized as:\n",
    "\n",
    "    `student id | PreT-1 Score | PreT-1 Time | PreT-1 Attempts | ... | PosT-4 Score | PosT Final Score |`\n",
    "    \n",
    "    `u'10'      | 100          | 250 seconds | 2               | ... | etc.`\n",
    "    \n",
    "    \n",
    "- How are the timedeltas computed? (they seem really long)\n",
    "- Is there a better way to calculate timedeltas? We want them to reflect the amount of time spent on a slide looking at a question\n",
    "- Calculate the PosT Final Score as the mean of all the problems on the Post-Test\n",
    "- Normalize the data in the dataframe\n",
    "- Divide the dataframe into a vector Y containing the PosT Final Score, and a matrix X containing everything else.\n",
    "- Run X,y through a basic regression test in scikit-learn, e.g. Decision Trees, Random Forests\n",
    "- Run cross-validation testing\n",
    "- Make recommendations for better data collection (we have fewer than 50 useable datapoints)\n"
   ]
  },
  {
   "cell_type": "code",
   "execution_count": null,
   "metadata": {
    "collapsed": true
   },
   "outputs": [],
   "source": []
  }
 ],
 "metadata": {
  "kernelspec": {
   "display_name": "Python 2",
   "language": "python",
   "name": "python2"
  },
  "language_info": {
   "codemirror_mode": {
    "name": "ipython",
    "version": 2
   },
   "file_extension": ".py",
   "mimetype": "text/x-python",
   "name": "python",
   "nbconvert_exporter": "python",
   "pygments_lexer": "ipython2",
   "version": "2.7.9"
  }
 },
 "nbformat": 4,
 "nbformat_minor": 0
}
